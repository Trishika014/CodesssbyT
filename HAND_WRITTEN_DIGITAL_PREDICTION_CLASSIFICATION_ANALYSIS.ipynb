{
  "nbformat": 4,
  "nbformat_minor": 0,
  "metadata": {
    "colab": {
      "provenance": []
    },
    "kernelspec": {
      "name": "python3",
      "display_name": "Python 3"
    },
    "language_info": {
      "name": "python"
    }
  },
  "cells": [
    {
      "cell_type": "markdown",
      "source": [
        "# **HAND  WRITTEN DIGITAL PREDICTION-CLASSIFICATION ANALYSIS**"
      ],
      "metadata": {
        "id": "yB4DNmkNnwzs"
      }
    },
    {
      "cell_type": "markdown",
      "source": [
        "**The digits dataset consists of 8x8 pixels images of digits. The images attributes of the dataset stores 8x8 arrays of grayscales values for each image.We will use these arrays to visualise the first 4 images.The traget attricute of the dataset stores the digit each image represents.**"
      ],
      "metadata": {
        "id": "ENtUPQHHn_iD"
      }
    },
    {
      "cell_type": "markdown",
      "source": [
        "**OBJECTIVE-The objective is to accurately and efficiently classify handwritten digits into their respective numerical categories using machine learning techniques.**"
      ],
      "metadata": {
        "id": "pt8r0-3Ho0AL"
      }
    },
    {
      "cell_type": "markdown",
      "source": [
        "# **Import Library**"
      ],
      "metadata": {
        "id": "p-Ic3heUpLSG"
      }
    },
    {
      "cell_type": "code",
      "source": [
        "import pandas as pd"
      ],
      "metadata": {
        "id": "yo3T0iNUpWdw"
      },
      "execution_count": null,
      "outputs": []
    },
    {
      "cell_type": "code",
      "source": [
        "import numpy as np"
      ],
      "metadata": {
        "id": "IEhkPmQKpcRR"
      },
      "execution_count": null,
      "outputs": []
    },
    {
      "cell_type": "code",
      "source": [
        "import matplotlib.pyplot as plt"
      ],
      "metadata": {
        "id": "O2O3-pnSryJ7"
      },
      "execution_count": null,
      "outputs": []
    },
    {
      "cell_type": "markdown",
      "source": [
        "# **Import Data**"
      ],
      "metadata": {
        "id": "qF13Ebxyr6lM"
      }
    },
    {
      "cell_type": "code",
      "source": [
        "from sklearn.datasets import load_digits"
      ],
      "metadata": {
        "id": "qhE7DYqxr_Ql"
      },
      "execution_count": null,
      "outputs": []
    },
    {
      "cell_type": "code",
      "source": [
        "df=load_digits"
      ],
      "metadata": {
        "id": "MTEnm3G0AzZ-"
      },
      "execution_count": null,
      "outputs": []
    },
    {
      "cell_type": "code",
      "source": [
        "import matplotlib.pyplot as plt # Import the matplotlib.pyplot module and assign it to the variable 'plt'\n",
        "from sklearn.datasets import load_digits # Import the load_digits function\n",
        "\n",
        "df = load_digits() # Call the load_digits function to load the dataset\n",
        "\n",
        "_,axes=plt.subplots(nrows=1,ncols=4,figsize=(10,3))\n",
        "for ax , image,label in zip(axes,df.images,df.target):\n",
        "  ax.set_axis_off()\n",
        "  ax.imshow(image,cmap=plt.cm.gray_r,interpolation='nearest')\n",
        "  ax.set_title(f'Training : {label}') # Use f-string formatting to correctly include the label"
      ],
      "metadata": {
        "colab": {
          "base_uri": "https://localhost:8080/",
          "height": 227
        },
        "id": "fKbAu0-cDxJ-",
        "outputId": "3e146fa3-ab20-4fef-eeca-7ca76b528580"
      },
      "execution_count": null,
      "outputs": [
        {
          "output_type": "display_data",
          "data": {
            "text/plain": [
              "<Figure size 1000x300 with 4 Axes>"
            ],
            "image/png": "[encoded data removed]"
          },
          "metadata": {}
        }
      ]
    },
    {
      "cell_type": "markdown",
      "source": [
        "# **DATA PREPROCESSING**"
      ],
      "metadata": {
        "id": "KP41zgVLHSW8"
      }
    },
    {
      "cell_type": "markdown",
      "source": [
        "FLATTEN IMAGE\n"
      ],
      "metadata": {
        "id": "hkO4QWBDHY0B"
      }
    },
    {
      "cell_type": "code",
      "source": [
        "import matplotlib.pyplot as plt\n",
        "from sklearn.datasets import load_digits\n",
        "\n",
        "# Load the digits dataset\n",
        "digits = load_digits()\n",
        "\n",
        "# Extract the first four images and their corresponding labels\n",
        "images = digits.images[:4]\n",
        "labels = digits.target[:4]\n",
        "\n",
        "# Plot the first four images\n",
        "fig, axes = plt.subplots(1, 4, figsize=(10, 3))\n",
        "for ax, image, label in zip(axes, images, labels):\n",
        "    ax.imshow(image, cmap='gray')\n",
        "    ax.set_title(f'Digit: {label}')\n",
        "    ax.axis('off')\n",
        "plt.show()\n",
        "\n",
        "# Preprocess the images\n",
        "# Flatten the images and normalize pixel values to the range [0, 1]\n",
        "images_flat = digits.images.reshape((len(digits.images), -1)) / 16.0\n",
        "\n",
        "# Check the shape of the preprocessed data\n",
        "print(\"Shape of preprocessed data:\", images_flat.shape)\n"
      ],
      "metadata": {
        "colab": {
          "base_uri": "https://localhost:8080/",
          "height": 244
        },
        "id": "1npXpZnEi3aU",
        "outputId": "03cc4e48-fe4b-47d6-e7e3-e029324fa2b9"
      },
      "execution_count": null,
      "outputs": [
        {
          "output_type": "display_data",
          "data": {
            "text/plain": [
              "<Figure size 1000x300 with 4 Axes>"
            ],
            "image/png": "[encoded data removed]"
          },
          "metadata": {}
        },
        {
          "output_type": "stream",
          "name": "stdout",
          "text": [
            "Shape of preprocessed data: (1797, 64)\n"
          ]
        }
      ]
    },
    {
      "cell_type": "code",
      "source": [
        "import matplotlib.pyplot as plt\n",
        "from sklearn.datasets import load_digits\n",
        "\n",
        "df = load_digits() # Define df here so it is available in the current scope\n",
        "\n",
        "df.images.shape # Access the images attribute of the df object and get its shape"
      ],
      "metadata": {
        "colab": {
          "base_uri": "https://localhost:8080/"
        },
        "id": "QL6QMnWXtzBY",
        "outputId": "5bd8407f-c938-47e3-a548-03ecc2d15321"
      },
      "execution_count": 2,
      "outputs": [
        {
          "output_type": "execute_result",
          "data": {
            "text/plain": [
              "(1797, 8, 8)"
            ]
          },
          "metadata": {},
          "execution_count": 2
        }
      ]
    },
    {
      "cell_type": "code",
      "source": [
        "df.images[0] # Access the 'images' attribute instead of 'image'"
      ],
      "metadata": {
        "colab": {
          "base_uri": "https://localhost:8080/"
        },
        "id": "Oo5UY1EruH5D",
        "outputId": "1dbe5962-35d6-4f35-90da-3a12f590ce49"
      },
      "execution_count": 4,
      "outputs": [
        {
          "output_type": "execute_result",
          "data": {
            "text/plain": [
              "array([[ 0.,  0.,  5., 13.,  9.,  1.,  0.,  0.],\n",
              "       [ 0.,  0., 13., 15., 10., 15.,  5.,  0.],\n",
              "       [ 0.,  3., 15.,  2.,  0., 11.,  8.,  0.],\n",
              "       [ 0.,  4., 12.,  0.,  0.,  8.,  8.,  0.],\n",
              "       [ 0.,  5.,  8.,  0.,  0.,  9.,  8.,  0.],\n",
              "       [ 0.,  4., 11.,  0.,  1., 12.,  7.,  0.],\n",
              "       [ 0.,  2., 14.,  5., 10., 12.,  0.,  0.],\n",
              "       [ 0.,  0.,  6., 13., 10.,  0.,  0.,  0.]])"
            ]
          },
          "metadata": {},
          "execution_count": 4
        }
      ]
    },
    {
      "cell_type": "code",
      "source": [
        "df.images[0].shape"
      ],
      "metadata": {
        "colab": {
          "base_uri": "https://localhost:8080/"
        },
        "id": "Y7MxdI1FuaSn",
        "outputId": "a73f188f-527e-420e-c642-8599511aa06e"
      },
      "execution_count": 5,
      "outputs": [
        {
          "output_type": "execute_result",
          "data": {
            "text/plain": [
              "(8, 8)"
            ]
          },
          "metadata": {},
          "execution_count": 5
        }
      ]
    },
    {
      "cell_type": "code",
      "source": [
        "len(df.images) # Access the 'images' attribute to get its length"
      ],
      "metadata": {
        "colab": {
          "base_uri": "https://localhost:8080/"
        },
        "id": "IEo_JJ_ju-mP",
        "outputId": "2ccea897-e0e8-45f2-ff9a-fb544a899e6c"
      },
      "execution_count": 7,
      "outputs": [
        {
          "output_type": "execute_result",
          "data": {
            "text/plain": [
              "1797"
            ]
          },
          "metadata": {},
          "execution_count": 7
        }
      ]
    },
    {
      "cell_type": "code",
      "source": [
        "n_samples = len(df.images)\n",
        "data = df.images.reshape((n_samples, -1))"
      ],
      "metadata": {
        "id": "ypAGaeUTvMeL"
      },
      "execution_count": 9,
      "outputs": []
    },
    {
      "cell_type": "code",
      "source": [
        "data[0]"
      ],
      "metadata": {
        "colab": {
          "base_uri": "https://localhost:8080/"
        },
        "id": "Vzmv0_-yvqrC",
        "outputId": "e0546a8b-b86e-4b77-82f5-888028da87fb"
      },
      "execution_count": 10,
      "outputs": [
        {
          "output_type": "execute_result",
          "data": {
            "text/plain": [
              "array([ 0.,  0.,  5., 13.,  9.,  1.,  0.,  0.,  0.,  0., 13., 15., 10.,\n",
              "       15.,  5.,  0.,  0.,  3., 15.,  2.,  0., 11.,  8.,  0.,  0.,  4.,\n",
              "       12.,  0.,  0.,  8.,  8.,  0.,  0.,  5.,  8.,  0.,  0.,  9.,  8.,\n",
              "        0.,  0.,  4., 11.,  0.,  1., 12.,  7.,  0.,  0.,  2., 14.,  5.,\n",
              "       10., 12.,  0.,  0.,  0.,  0.,  6., 13., 10.,  0.,  0.,  0.])"
            ]
          },
          "metadata": {},
          "execution_count": 10
        }
      ]
    },
    {
      "cell_type": "code",
      "source": [
        "data[0].shape"
      ],
      "metadata": {
        "colab": {
          "base_uri": "https://localhost:8080/"
        },
        "id": "YBXOwV-Gvt-h",
        "outputId": "fbd519b2-682c-4e16-98e0-486d8f4fa3c4"
      },
      "execution_count": 11,
      "outputs": [
        {
          "output_type": "execute_result",
          "data": {
            "text/plain": [
              "(64,)"
            ]
          },
          "metadata": {},
          "execution_count": 11
        }
      ]
    },
    {
      "cell_type": "code",
      "source": [
        "data.shape"
      ],
      "metadata": {
        "colab": {
          "base_uri": "https://localhost:8080/"
        },
        "id": "-2J8T3Y9v2ZC",
        "outputId": "ff1b9feb-f0ef-4cbf-fe9f-18bc7ec73977"
      },
      "execution_count": 12,
      "outputs": [
        {
          "output_type": "execute_result",
          "data": {
            "text/plain": [
              "(1797, 64)"
            ]
          },
          "metadata": {},
          "execution_count": 12
        }
      ]
    },
    {
      "cell_type": "markdown",
      "source": [
        "**Scaling image data**"
      ],
      "metadata": {
        "id": "cSj_QfFhv_zG"
      }
    },
    {
      "cell_type": "code",
      "source": [
        "data.min()"
      ],
      "metadata": {
        "colab": {
          "base_uri": "https://localhost:8080/"
        },
        "id": "7oHtUF0fwFlG",
        "outputId": "f60156b7-55c5-425f-f894-f5a7d02a3407"
      },
      "execution_count": 13,
      "outputs": [
        {
          "output_type": "execute_result",
          "data": {
            "text/plain": [
              "0.0"
            ]
          },
          "metadata": {},
          "execution_count": 13
        }
      ]
    },
    {
      "cell_type": "code",
      "source": [
        "data.max()"
      ],
      "metadata": {
        "colab": {
          "base_uri": "https://localhost:8080/"
        },
        "id": "-YXR_Ocqxffq",
        "outputId": "f863ffbd-ae75-4998-ca30-67d6c574f05b"
      },
      "execution_count": 14,
      "outputs": [
        {
          "output_type": "execute_result",
          "data": {
            "text/plain": [
              "16.0"
            ]
          },
          "metadata": {},
          "execution_count": 14
        }
      ]
    },
    {
      "cell_type": "code",
      "source": [
        "data= data/16"
      ],
      "metadata": {
        "id": "-Cr32x54xhkT"
      },
      "execution_count": 15,
      "outputs": []
    },
    {
      "cell_type": "code",
      "source": [
        "data.min()"
      ],
      "metadata": {
        "colab": {
          "base_uri": "https://localhost:8080/"
        },
        "id": "GLF_CgQzxric",
        "outputId": "bb5062ed-0959-49d4-9740-9b7a06fcc4d5"
      },
      "execution_count": 16,
      "outputs": [
        {
          "output_type": "execute_result",
          "data": {
            "text/plain": [
              "0.0"
            ]
          },
          "metadata": {},
          "execution_count": 16
        }
      ]
    },
    {
      "cell_type": "code",
      "source": [
        "data.max()"
      ],
      "metadata": {
        "colab": {
          "base_uri": "https://localhost:8080/"
        },
        "id": "5Vac99pWxtuY",
        "outputId": "17c23e97-5237-48bd-a306-d8edfb781207"
      },
      "execution_count": 17,
      "outputs": [
        {
          "output_type": "execute_result",
          "data": {
            "text/plain": [
              "1.0"
            ]
          },
          "metadata": {},
          "execution_count": 17
        }
      ]
    },
    {
      "cell_type": "code",
      "source": [
        "data[0]"
      ],
      "metadata": {
        "colab": {
          "base_uri": "https://localhost:8080/"
        },
        "id": "esdbuG9vxwTU",
        "outputId": "e4dab587-b26c-4a29-93fb-93d7083114c3"
      },
      "execution_count": 18,
      "outputs": [
        {
          "output_type": "execute_result",
          "data": {
            "text/plain": [
              "array([0.    , 0.    , 0.3125, 0.8125, 0.5625, 0.0625, 0.    , 0.    ,\n",
              "       0.    , 0.    , 0.8125, 0.9375, 0.625 , 0.9375, 0.3125, 0.    ,\n",
              "       0.    , 0.1875, 0.9375, 0.125 , 0.    , 0.6875, 0.5   , 0.    ,\n",
              "       0.    , 0.25  , 0.75  , 0.    , 0.    , 0.5   , 0.5   , 0.    ,\n",
              "       0.    , 0.3125, 0.5   , 0.    , 0.    , 0.5625, 0.5   , 0.    ,\n",
              "       0.    , 0.25  , 0.6875, 0.    , 0.0625, 0.75  , 0.4375, 0.    ,\n",
              "       0.    , 0.125 , 0.875 , 0.3125, 0.625 , 0.75  , 0.    , 0.    ,\n",
              "       0.    , 0.    , 0.375 , 0.8125, 0.625 , 0.    , 0.    , 0.    ])"
            ]
          },
          "metadata": {},
          "execution_count": 18
        }
      ]
    },
    {
      "cell_type": "markdown",
      "source": [
        "**Train Test Split Data**"
      ],
      "metadata": {
        "id": "ojFIi-O8x378"
      }
    },
    {
      "cell_type": "code",
      "source": [
        "from sklearn.model_selection import train_test_split # Fixed the import statement by removing the extra '.'"
      ],
      "metadata": {
        "id": "UPbAndMxyBMo"
      },
      "execution_count": 20,
      "outputs": []
    },
    {
      "cell_type": "code",
      "source": [
        "x_train,x_test,y_train,y_test=train_test_split(data,df.target,test_size =0.3)"
      ],
      "metadata": {
        "id": "89SKCMnIyT9v"
      },
      "execution_count": 21,
      "outputs": []
    },
    {
      "cell_type": "code",
      "source": [
        "x_train.shape,x_test.shape,y_train.shape,y_test.shape"
      ],
      "metadata": {
        "colab": {
          "base_uri": "https://localhost:8080/"
        },
        "id": "3roYwt9Uy_rW",
        "outputId": "a64bef4c-0b13-41d9-9ef6-c40a3822d4f7"
      },
      "execution_count": 22,
      "outputs": [
        {
          "output_type": "execute_result",
          "data": {
            "text/plain": [
              "((1257, 64), (540, 64), (1257,), (540,))"
            ]
          },
          "metadata": {},
          "execution_count": 22
        }
      ]
    },
    {
      "cell_type": "markdown",
      "source": [
        "**Random Forest Model**"
      ],
      "metadata": {
        "id": "ccA4Ttb41y4N"
      }
    },
    {
      "cell_type": "code",
      "source": [
        "from sklearn.ensemble import RandomForestClassifier"
      ],
      "metadata": {
        "id": "ocAXPz9a16OM"
      },
      "execution_count": 23,
      "outputs": []
    },
    {
      "cell_type": "code",
      "source": [
        "rf = RandomForestClassifier()"
      ],
      "metadata": {
        "id": "YXzMg2oC2pIh"
      },
      "execution_count": 24,
      "outputs": []
    },
    {
      "cell_type": "code",
      "source": [
        "rf.fit(x_train, y_train)"
      ],
      "metadata": {
        "colab": {
          "base_uri": "https://localhost:8080/",
          "height": 75
        },
        "id": "bklOKi_R20Lj",
        "outputId": "f47ca9de-386b-4087-eb4a-52635d61dfda"
      },
      "execution_count": 25,
      "outputs": [
        {
          "output_type": "execute_result",
          "data": {
            "text/plain": [
              "RandomForestClassifier()"
            ],
            "text/html": [
              "<style>#sk-container-id-1 {color: black;background-color: white;}#sk-container-id-1 pre{padding: 0;}#sk-container-id-1 div.sk-toggleable {background-color: white;}#sk-container-id-1 label.sk-toggleable__label {cursor: pointer;display: block;width: 100%;margin-bottom: 0;padding: 0.3em;box-sizing: border-box;text-align: center;}#sk-container-id-1 label.sk-toggleable__label-arrow:before {content: \"▸\";float: left;margin-right: 0.25em;color: #696969;}#sk-container-id-1 label.sk-toggleable__label-arrow:hover:before {color: black;}#sk-container-id-1 div.sk-estimator:hover label.sk-toggleable__label-arrow:before {color: black;}#sk-container-id-1 div.sk-toggleable__content {max-height: 0;max-width: 0;overflow: hidden;text-align: left;background-color: #f0f8ff;}#sk-container-id-1 div.sk-toggleable__content pre {margin: 0.2em;color: black;border-radius: 0.25em;background-color: #f0f8ff;}#sk-container-id-1 input.sk-toggleable__control:checked~div.sk-toggleable__content {max-height: 200px;max-width: 100%;overflow: auto;}#sk-container-id-1 input.sk-toggleable__control:checked~label.sk-toggleable__label-arrow:before {content: \"▾\";}#sk-container-id-1 div.sk-estimator input.sk-toggleable__control:checked~label.sk-toggleable__label {background-color: #d4ebff;}#sk-container-id-1 div.sk-label input.sk-toggleable__control:checked~label.sk-toggleable__label {background-color: #d4ebff;}#sk-container-id-1 input.sk-hidden--visually {border: 0;clip: rect(1px 1px 1px 1px);clip: rect(1px, 1px, 1px, 1px);height: 1px;margin: -1px;overflow: hidden;padding: 0;position: absolute;width: 1px;}#sk-container-id-1 div.sk-estimator {font-family: monospace;background-color: #f0f8ff;border: 1px dotted black;border-radius: 0.25em;box-sizing: border-box;margin-bottom: 0.5em;}#sk-container-id-1 div.sk-estimator:hover {background-color: #d4ebff;}#sk-container-id-1 div.sk-parallel-item::after {content: \"\";width: 100%;border-bottom: 1px solid gray;flex-grow: 1;}#sk-container-id-1 div.sk-label:hover label.sk-toggleable__label {background-color: #d4ebff;}#sk-container-id-1 div.sk-serial::before {content: \"\";position: absolute;border-left: 1px solid gray;box-sizing: border-box;top: 0;bottom: 0;left: 50%;z-index: 0;}#sk-container-id-1 div.sk-serial {display: flex;flex-direction: column;align-items: center;background-color: white;padding-right: 0.2em;padding-left: 0.2em;position: relative;}#sk-container-id-1 div.sk-item {position: relative;z-index: 1;}#sk-container-id-1 div.sk-parallel {display: flex;align-items: stretch;justify-content: center;background-color: white;position: relative;}#sk-container-id-1 div.sk-item::before, #sk-container-id-1 div.sk-parallel-item::before {content: \"\";position: absolute;border-left: 1px solid gray;box-sizing: border-box;top: 0;bottom: 0;left: 50%;z-index: -1;}#sk-container-id-1 div.sk-parallel-item {display: flex;flex-direction: column;z-index: 1;position: relative;background-color: white;}#sk-container-id-1 div.sk-parallel-item:first-child::after {align-self: flex-end;width: 50%;}#sk-container-id-1 div.sk-parallel-item:last-child::after {align-self: flex-start;width: 50%;}#sk-container-id-1 div.sk-parallel-item:only-child::after {width: 0;}#sk-container-id-1 div.sk-dashed-wrapped {border: 1px dashed gray;margin: 0 0.4em 0.5em 0.4em;box-sizing: border-box;padding-bottom: 0.4em;background-color: white;}#sk-container-id-1 div.sk-label label {font-family: monospace;font-weight: bold;display: inline-block;line-height: 1.2em;}#sk-container-id-1 div.sk-label-container {text-align: center;}#sk-container-id-1 div.sk-container {/* jupyter's `normalize.less` sets `[hidden] { display: none; }` but bootstrap.min.css set `[hidden] { display: none !important; }` so we also need the `!important` here to be able to override the default hidden behavior on the sphinx rendered scikit-learn.org. See: https://github.com/scikit-learn/scikit-learn/issues/21755 */display: inline-block !important;position: relative;}#sk-container-id-1 div.sk-text-repr-fallback {display: none;}</style><div id=\"sk-container-id-1\" class=\"sk-top-container\"><div class=\"sk-text-repr-fallback\"><pre>RandomForestClassifier()</pre><b>In a Jupyter environment, please rerun this cell to show the HTML representation or trust the notebook. <br />On GitHub, the HTML representation is unable to render, please try loading this page with nbviewer.org.</b></div><div class=\"sk-container\" hidden><div class=\"sk-item\"><div class=\"sk-estimator sk-toggleable\"><input class=\"sk-toggleable__control sk-hidden--visually\" id=\"sk-estimator-id-1\" type=\"checkbox\" checked><label for=\"sk-estimator-id-1\" class=\"sk-toggleable__label sk-toggleable__label-arrow\">RandomForestClassifier</label><div class=\"sk-toggleable__content\"><pre>RandomForestClassifier()</pre></div></div></div></div></div>"
            ]
          },
          "metadata": {},
          "execution_count": 25
        }
      ]
    },
    {
      "cell_type": "markdown",
      "source": [
        "**Predict Test Data**"
      ],
      "metadata": {
        "id": "1dUnOinP3xJF"
      }
    },
    {
      "cell_type": "code",
      "source": [
        "y_pred = rf.predict(x_test)"
      ],
      "metadata": {
        "id": "AYTEE1JM33oA"
      },
      "execution_count": 26,
      "outputs": []
    },
    {
      "cell_type": "code",
      "source": [
        "y_pred"
      ],
      "metadata": {
        "colab": {
          "base_uri": "https://localhost:8080/"
        },
        "id": "BxwH1FoB4Dy_",
        "outputId": "49eeb4b7-bcf0-4911-90ee-7944114f8327"
      },
      "execution_count": 27,
      "outputs": [
        {
          "output_type": "execute_result",
          "data": {
            "text/plain": [
              "array([3, 8, 2, 7, 0, 0, 7, 6, 0, 6, 0, 0, 2, 5, 6, 7, 7, 2, 6, 0, 5, 7,\n",
              "       3, 6, 7, 4, 7, 4, 3, 2, 3, 6, 4, 8, 8, 9, 6, 2, 5, 1, 1, 5, 0, 1,\n",
              "       5, 6, 4, 0, 3, 5, 1, 6, 5, 6, 8, 5, 8, 9, 9, 9, 2, 1, 5, 3, 7, 7,\n",
              "       9, 0, 1, 8, 6, 7, 2, 9, 5, 5, 6, 6, 6, 7, 1, 1, 2, 5, 2, 9, 7, 3,\n",
              "       2, 9, 0, 2, 1, 6, 0, 9, 0, 8, 6, 7, 1, 8, 7, 4, 4, 6, 6, 9, 4, 3,\n",
              "       1, 5, 2, 7, 8, 5, 3, 5, 2, 2, 6, 0, 0, 3, 4, 7, 8, 4, 0, 3, 4, 9,\n",
              "       0, 4, 7, 5, 3, 6, 9, 1, 7, 4, 4, 5, 9, 1, 9, 7, 1, 8, 3, 2, 1, 4,\n",
              "       6, 4, 9, 4, 4, 7, 6, 4, 6, 9, 5, 2, 0, 7, 5, 1, 2, 7, 7, 2, 0, 6,\n",
              "       8, 1, 8, 1, 1, 6, 9, 6, 4, 7, 1, 8, 9, 5, 4, 3, 9, 4, 4, 5, 7, 7,\n",
              "       0, 8, 3, 1, 2, 1, 0, 3, 3, 8, 8, 9, 7, 0, 0, 2, 7, 3, 4, 1, 0, 2,\n",
              "       9, 2, 4, 7, 6, 0, 9, 2, 0, 1, 9, 7, 5, 8, 3, 3, 4, 7, 6, 1, 7, 3,\n",
              "       1, 4, 9, 9, 7, 0, 9, 2, 6, 4, 8, 0, 9, 2, 5, 5, 2, 3, 4, 1, 6, 8,\n",
              "       3, 6, 2, 1, 4, 9, 8, 6, 9, 1, 1, 8, 7, 5, 5, 4, 9, 5, 3, 8, 7, 5,\n",
              "       0, 7, 8, 2, 7, 5, 0, 1, 5, 7, 0, 8, 6, 0, 8, 5, 1, 1, 0, 6, 7, 4,\n",
              "       8, 1, 8, 2, 1, 6, 9, 8, 6, 2, 8, 0, 0, 4, 7, 3, 4, 0, 9, 4, 1, 3,\n",
              "       4, 0, 1, 7, 8, 3, 8, 9, 9, 0, 9, 6, 2, 6, 9, 1, 0, 0, 0, 3, 3, 5,\n",
              "       6, 2, 7, 4, 6, 9, 4, 0, 3, 3, 3, 7, 8, 3, 3, 4, 6, 5, 3, 1, 5, 7,\n",
              "       9, 9, 6, 0, 1, 1, 4, 1, 5, 1, 6, 0, 0, 3, 1, 0, 8, 0, 2, 8, 0, 5,\n",
              "       1, 9, 6, 2, 3, 4, 5, 9, 3, 9, 8, 5, 8, 7, 2, 4, 4, 9, 8, 9, 1, 2,\n",
              "       5, 3, 5, 8, 2, 3, 1, 5, 1, 5, 0, 1, 6, 7, 4, 6, 7, 1, 3, 4, 8, 7,\n",
              "       9, 8, 2, 3, 8, 5, 8, 9, 8, 3, 2, 6, 0, 5, 8, 2, 9, 1, 0, 7, 3, 0,\n",
              "       0, 7, 0, 0, 0, 0, 8, 3, 5, 3, 8, 4, 8, 1, 1, 2, 3, 3, 4, 6, 9, 0,\n",
              "       9, 1, 1, 8, 2, 0, 2, 9, 7, 5, 8, 7, 1, 2, 0, 9, 2, 0, 6, 1, 9, 0,\n",
              "       8, 4, 3, 6, 6, 2, 2, 8, 7, 7, 1, 4, 2, 0, 5, 9, 4, 2, 7, 4, 9, 3,\n",
              "       2, 5, 2, 9, 9, 9, 3, 0, 7, 0, 1, 5])"
            ]
          },
          "metadata": {},
          "execution_count": 27
        }
      ]
    },
    {
      "cell_type": "markdown",
      "source": [
        "**Model Accuracy**"
      ],
      "metadata": {
        "id": "0ut2KPa44NvI"
      }
    },
    {
      "cell_type": "code",
      "source": [
        "from sklearn.metrics import confusion_matrix, classification_report"
      ],
      "metadata": {
        "id": "8q67wXn34RQe"
      },
      "execution_count": 28,
      "outputs": []
    },
    {
      "cell_type": "code",
      "source": [
        "# Assuming 'y_test' contains the true labels for your test data\n",
        "confusion_matrix(y_test, y_pred)"
      ],
      "metadata": {
        "colab": {
          "base_uri": "https://localhost:8080/"
        },
        "id": "-Hd3rFPR4chq",
        "outputId": "778730bb-abc1-44a0-adac-2178f3cc84cc"
      },
      "execution_count": 32,
      "outputs": [
        {
          "output_type": "execute_result",
          "data": {
            "text/plain": [
              "array([[62,  0,  0,  0,  0,  0,  0,  0,  0,  0],\n",
              "       [ 0, 57,  0,  0,  0,  0,  0,  0,  0,  0],\n",
              "       [ 0,  1, 51,  0,  0,  0,  0,  0,  0,  0],\n",
              "       [ 1,  0,  0, 51,  0,  0,  0,  0,  1,  0],\n",
              "       [ 0,  0,  0,  0, 50,  0,  0,  0,  0,  1],\n",
              "       [ 0,  0,  0,  0,  0, 49,  1,  0,  1,  2],\n",
              "       [ 1,  0,  0,  0,  0,  0, 50,  0,  0,  0],\n",
              "       [ 0,  0,  0,  0,  0,  0,  0, 56,  0,  1],\n",
              "       [ 0,  1,  0,  0,  0,  0,  0,  0, 49,  0],\n",
              "       [ 0,  0,  0,  0,  0,  0,  0,  0,  1, 53]])"
            ]
          },
          "metadata": {},
          "execution_count": 32
        }
      ]
    },
    {
      "cell_type": "code",
      "source": [
        "print(classification_report(y_test, y_pred))"
      ],
      "metadata": {
        "colab": {
          "base_uri": "https://localhost:8080/"
        },
        "id": "yR7tTDR-430C",
        "outputId": "485acf5a-af4a-4257-c5d0-8754691122a6"
      },
      "execution_count": 34,
      "outputs": [
        {
          "output_type": "stream",
          "name": "stdout",
          "text": [
            "              precision    recall  f1-score   support\n",
            "\n",
            "           0       0.97      1.00      0.98        62\n",
            "           1       0.97      1.00      0.98        57\n",
            "           2       1.00      0.98      0.99        52\n",
            "           3       1.00      0.96      0.98        53\n",
            "           4       1.00      0.98      0.99        51\n",
            "           5       1.00      0.92      0.96        53\n",
            "           6       0.98      0.98      0.98        51\n",
            "           7       1.00      0.98      0.99        57\n",
            "           8       0.94      0.98      0.96        50\n",
            "           9       0.93      0.98      0.95        54\n",
            "\n",
            "    accuracy                           0.98       540\n",
            "   macro avg       0.98      0.98      0.98       540\n",
            "weighted avg       0.98      0.98      0.98       540\n",
            "\n"
          ]
        }
      ]
    },
    {
      "cell_type": "code",
      "source": [],
      "metadata": {
        "id": "U5Xg0TZt6MaR"
      },
      "execution_count": null,
      "outputs": []
    }
  ]
}