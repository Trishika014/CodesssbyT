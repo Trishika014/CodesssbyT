{
  "nbformat": 4,
  "nbformat_minor": 0,
  "metadata": {
    "colab": {
      "provenance": []
    },
    "kernelspec": {
      "name": "python3",
      "display_name": "Python 3"
    },
    "language_info": {
      "name": "python"
    }
  },
  "cells": [
    {
      "cell_type": "markdown",
      "source": [
        "# **APP INSIGHTS ANALYSIS**\n",
        "\n"
      ],
      "metadata": {
        "id": "X-zNAsdxvs1C"
      }
    },
    {
      "cell_type": "code",
      "execution_count": null,
      "metadata": {
        "id": "1S7Kf0keCfDr"
      },
      "outputs": [],
      "source": [
        "import pandas as pd\n",
        "import numpy as np\n",
        "import matplotlib.pyplot as plt\n",
        "import seaborn as sns"
      ]
    },
    {
      "cell_type": "code",
      "source": [
        "df=pd.read_csv(\"/content/drive/MyDrive/dataset/googleplaystore.csv\")\n",
        "df.head()"
      ],
      "metadata": {
        "colab": {
          "base_uri": "https://localhost:8080/",
          "height": 311
        },
        "id": "H8N-4INlC2mF",
        "outputId": "b4d6483b-9a81-4a73-e164-4ff90f419dfa"
      },
      "execution_count": null,
      "outputs": [
        {
          "output_type": "execute_result",
          "data": {
            "text/plain": [
              "                                                 App        Category  Rating  \\\n",
              "0     Photo Editor & Candy Camera & Grid & ScrapBook  ART_AND_DESIGN     4.1   \n",
              "1                                Coloring book moana  ART_AND_DESIGN     3.9   \n",
              "2  U Launcher Lite – FREE Live Cool Themes, Hide ...  ART_AND_DESIGN     4.7   \n",
              "3                              Sketch - Draw & Paint  ART_AND_DESIGN     4.5   \n",
              "4              Pixel Draw - Number Art Coloring Book  ART_AND_DESIGN     4.3   \n",
              "\n",
              "  Reviews  Size     Installs  Type Price Content Rating  \\\n",
              "0     159   19M      10,000+  Free     0       Everyone   \n",
              "1     967   14M     500,000+  Free     0       Everyone   \n",
              "2   87510  8.7M   5,000,000+  Free     0       Everyone   \n",
              "3  215644   25M  50,000,000+  Free     0           Teen   \n",
              "4     967  2.8M     100,000+  Free     0       Everyone   \n",
              "\n",
              "                      Genres      Last Updated         Current Ver  \\\n",
              "0               Art & Design   January 7, 2018               1.0.0   \n",
              "1  Art & Design;Pretend Play  January 15, 2018               2.0.0   \n",
              "2               Art & Design    August 1, 2018               1.2.4   \n",
              "3               Art & Design      June 8, 2018  Varies with device   \n",
              "4    Art & Design;Creativity     June 20, 2018                 1.1   \n",
              "\n",
              "    Android Ver  \n",
              "0  4.0.3 and up  \n",
              "1  4.0.3 and up  \n",
              "2  4.0.3 and up  \n",
              "3    4.2 and up  \n",
              "4    4.4 and up  "
            ],
            "text/html": [
              "\n",
              "  <div id=\"df-9171673d-b21f-4aca-8d64-05b39dacac7d\" class=\"colab-df-container\">\n",
              "    <div>\n",
              "<style scoped>\n",
              "    .dataframe tbody tr th:only-of-type {\n",
              "        vertical-align: middle;\n",
              "    }\n",
              "\n",
              "    .dataframe tbody tr th {\n",
              "        vertical-align: top;\n",
              "    }\n",
              "\n",
              "    .dataframe thead th {\n",
              "        text-align: right;\n",
              "    }\n",
              "</style>\n",
              "<table border=\"1\" class=\"dataframe\">\n",
              "  <thead>\n",
              "    <tr style=\"text-align: right;\">\n",
              "      <th></th>\n",
              "      <th>App</th>\n",
              "      <th>Category</th>\n",
              "      <th>Rating</th>\n",
              "      <th>Reviews</th>\n",
              "      <th>Size</th>\n",
              "      <th>Installs</th>\n",
              "      <th>Type</th>\n",
              "      <th>Price</th>\n",
              "      <th>Content Rating</th>\n",
              "      <th>Genres</th>\n",
              "      <th>Last Updated</th>\n",
              "      <th>Current Ver</th>\n",
              "      <th>Android Ver</th>\n",
              "    </tr>\n",
              "  </thead>\n",
              "  <tbody>\n",
              "    <tr>\n",
              "      <th>0</th>\n",
              "      <td>Photo Editor &amp; Candy Camera &amp; Grid &amp; ScrapBook</td>\n",
              "      <td>ART_AND_DESIGN</td>\n",
              "      <td>4.1</td>\n",
              "      <td>159</td>\n",
              "      <td>19M</td>\n",
              "      <td>10,000+</td>\n",
              "      <td>Free</td>\n",
              "      <td>0</td>\n",
              "      <td>Everyone</td>\n",
              "      <td>Art &amp; Design</td>\n",
              "      <td>January 7, 2018</td>\n",
              "      <td>1.0.0</td>\n",
              "      <td>4.0.3 and up</td>\n",
              "    </tr>\n",
              "    <tr>\n",
              "      <th>1</th>\n",
              "      <td>Coloring book moana</td>\n",
              "      <td>ART_AND_DESIGN</td>\n",
              "      <td>3.9</td>\n",
              "      <td>967</td>\n",
              "      <td>14M</td>\n",
              "      <td>500,000+</td>\n",
              "      <td>Free</td>\n",
              "      <td>0</td>\n",
              "      <td>Everyone</td>\n",
              "      <td>Art &amp; Design;Pretend Play</td>\n",
              "      <td>January 15, 2018</td>\n",
              "      <td>2.0.0</td>\n",
              "      <td>4.0.3 and up</td>\n",
              "    </tr>\n",
              "    <tr>\n",
              "      <th>2</th>\n",
              "      <td>U Launcher Lite – FREE Live Cool Themes, Hide ...</td>\n",
              "      <td>ART_AND_DESIGN</td>\n",
              "      <td>4.7</td>\n",
              "      <td>87510</td>\n",
              "      <td>8.7M</td>\n",
              "      <td>5,000,000+</td>\n",
              "      <td>Free</td>\n",
              "      <td>0</td>\n",
              "      <td>Everyone</td>\n",
              "      <td>Art &amp; Design</td>\n",
              "      <td>August 1, 2018</td>\n",
              "      <td>1.2.4</td>\n",
              "      <td>4.0.3 and up</td>\n",
              "    </tr>\n",
              "    <tr>\n",
              "      <th>3</th>\n",
              "      <td>Sketch - Draw &amp; Paint</td>\n",
              "      <td>ART_AND_DESIGN</td>\n",
              "      <td>4.5</td>\n",
              "      <td>215644</td>\n",
              "      <td>25M</td>\n",
              "      <td>50,000,000+</td>\n",
              "      <td>Free</td>\n",
              "      <td>0</td>\n",
              "      <td>Teen</td>\n",
              "      <td>Art &amp; Design</td>\n",
              "      <td>June 8, 2018</td>\n",
              "      <td>Varies with device</td>\n",
              "      <td>4.2 and up</td>\n",
              "    </tr>\n",
              "    <tr>\n",
              "      <th>4</th>\n",
              "      <td>Pixel Draw - Number Art Coloring Book</td>\n",
              "      <td>ART_AND_DESIGN</td>\n",
              "      <td>4.3</td>\n",
              "      <td>967</td>\n",
              "      <td>2.8M</td>\n",
              "      <td>100,000+</td>\n",
              "      <td>Free</td>\n",
              "      <td>0</td>\n",
              "      <td>Everyone</td>\n",
              "      <td>Art &amp; Design;Creativity</td>\n",
              "      <td>June 20, 2018</td>\n",
              "      <td>1.1</td>\n",
              "      <td>4.4 and up</td>\n",
              "    </tr>\n",
              "  </tbody>\n",
              "</table>\n",
              "</div>\n",
              "    <div class=\"colab-df-buttons\">\n",
              "\n",
              "  <div class=\"colab-df-container\">\n",
              "    <button class=\"colab-df-convert\" onclick=\"convertToInteractive('df-9171673d-b21f-4aca-8d64-05b39dacac7d')\"\n",
              "            title=\"Convert this dataframe to an interactive table.\"\n",
              "            style=\"display:none;\">\n",
              "\n",
              "  <svg xmlns=\"http://www.w3.org/2000/svg\" height=\"24px\" viewBox=\"0 -960 960 960\">\n",
              "    <path d=\"M120-120v-720h720v720H120Zm60-500h600v-160H180v160Zm220 220h160v-160H400v160Zm0 220h160v-160H400v160ZM180-400h160v-160H180v160Zm440 0h160v-160H620v160ZM180-180h160v-160H180v160Zm440 0h160v-160H620v160Z\"/>\n",
              "  </svg>\n",
              "    </button>\n",
              "\n",
              "  <style>\n",
              "    .colab-df-container {\n",
              "      display:flex;\n",
              "      gap: 12px;\n",
              "    }\n",
              "\n",
              "    .colab-df-convert {\n",
              "      background-color: #E8F0FE;\n",
              "      border: none;\n",
              "      border-radius: 50%;\n",
              "      cursor: pointer;\n",
              "      display: none;\n",
              "      fill: #1967D2;\n",
              "      height: 32px;\n",
              "      padding: 0 0 0 0;\n",
              "      width: 32px;\n",
              "    }\n",
              "\n",
              "    .colab-df-convert:hover {\n",
              "      background-color: #E2EBFA;\n",
              "      box-shadow: 0px 1px 2px rgba(60, 64, 67, 0.3), 0px 1px 3px 1px rgba(60, 64, 67, 0.15);\n",
              "      fill: #174EA6;\n",
              "    }\n",
              "\n",
              "    .colab-df-buttons div {\n",
              "      margin-bottom: 4px;\n",
              "    }\n",
              "\n",
              "    [theme=dark] .colab-df-convert {\n",
              "      background-color: #3B4455;\n",
              "      fill: #D2E3FC;\n",
              "    }\n",
              "\n",
              "    [theme=dark] .colab-df-convert:hover {\n",
              "      background-color: #434B5C;\n",
              "      box-shadow: 0px 1px 3px 1px rgba(0, 0, 0, 0.15);\n",
              "      filter: drop-shadow(0px 1px 2px rgba(0, 0, 0, 0.3));\n",
              "      fill: #FFFFFF;\n",
              "    }\n",
              "  </style>\n",
              "\n",
              "    <script>\n",
              "      const buttonEl =\n",
              "        document.querySelector('#df-9171673d-b21f-4aca-8d64-05b39dacac7d button.colab-df-convert');\n",
              "      buttonEl.style.display =\n",
              "        google.colab.kernel.accessAllowed ? 'block' : 'none';\n",
              "\n",
              "      async function convertToInteractive(key) {\n",
              "        const element = document.querySelector('#df-9171673d-b21f-4aca-8d64-05b39dacac7d');\n",
              "        const dataTable =\n",
              "          await google.colab.kernel.invokeFunction('convertToInteractive',\n",
              "                                                    [key], {});\n",
              "        if (!dataTable) return;\n",
              "\n",
              "        const docLinkHtml = 'Like what you see? Visit the ' +\n",
              "          '<a target=\"_blank\" href=https://colab.research.google.com/notebooks/data_table.ipynb>data table notebook</a>'\n",
              "          + ' to learn more about interactive tables.';\n",
              "        element.innerHTML = '';\n",
              "        dataTable['output_type'] = 'display_data';\n",
              "        await google.colab.output.renderOutput(dataTable, element);\n",
              "        const docLink = document.createElement('div');\n",
              "        docLink.innerHTML = docLinkHtml;\n",
              "        element.appendChild(docLink);\n",
              "      }\n",
              "    </script>\n",
              "  </div>\n",
              "\n",
              "\n",
              "<div id=\"df-0731d793-ecb6-4bab-be44-68c952f073ee\">\n",
              "  <button class=\"colab-df-quickchart\" onclick=\"quickchart('df-0731d793-ecb6-4bab-be44-68c952f073ee')\"\n",
              "            title=\"Suggest charts\"\n",
              "            style=\"display:none;\">\n",
              "\n",
              "<svg xmlns=\"http://www.w3.org/2000/svg\" height=\"24px\"viewBox=\"0 0 24 24\"\n",
              "     width=\"24px\">\n",
              "    <g>\n",
              "        <path d=\"M19 3H5c-1.1 0-2 .9-2 2v14c0 1.1.9 2 2 2h14c1.1 0 2-.9 2-2V5c0-1.1-.9-2-2-2zM9 17H7v-7h2v7zm4 0h-2V7h2v10zm4 0h-2v-4h2v4z\"/>\n",
              "    </g>\n",
              "</svg>\n",
              "  </button>\n",
              "\n",
              "<style>\n",
              "  .colab-df-quickchart {\n",
              "      --bg-color: #E8F0FE;\n",
              "      --fill-color: #1967D2;\n",
              "      --hover-bg-color: #E2EBFA;\n",
              "      --hover-fill-color: #174EA6;\n",
              "      --disabled-fill-color: #AAA;\n",
              "      --disabled-bg-color: #DDD;\n",
              "  }\n",
              "\n",
              "  [theme=dark] .colab-df-quickchart {\n",
              "      --bg-color: #3B4455;\n",
              "      --fill-color: #D2E3FC;\n",
              "      --hover-bg-color: #434B5C;\n",
              "      --hover-fill-color: #FFFFFF;\n",
              "      --disabled-bg-color: #3B4455;\n",
              "      --disabled-fill-color: #666;\n",
              "  }\n",
              "\n",
              "  .colab-df-quickchart {\n",
              "    background-color: var(--bg-color);\n",
              "    border: none;\n",
              "    border-radius: 50%;\n",
              "    cursor: pointer;\n",
              "    display: none;\n",
              "    fill: var(--fill-color);\n",
              "    height: 32px;\n",
              "    padding: 0;\n",
              "    width: 32px;\n",
              "  }\n",
              "\n",
              "  .colab-df-quickchart:hover {\n",
              "    background-color: var(--hover-bg-color);\n",
              "    box-shadow: 0 1px 2px rgba(60, 64, 67, 0.3), 0 1px 3px 1px rgba(60, 64, 67, 0.15);\n",
              "    fill: var(--button-hover-fill-color);\n",
              "  }\n",
              "\n",
              "  .colab-df-quickchart-complete:disabled,\n",
              "  .colab-df-quickchart-complete:disabled:hover {\n",
              "    background-color: var(--disabled-bg-color);\n",
              "    fill: var(--disabled-fill-color);\n",
              "    box-shadow: none;\n",
              "  }\n",
              "\n",
              "  .colab-df-spinner {\n",
              "    border: 2px solid var(--fill-color);\n",
              "    border-color: transparent;\n",
              "    border-bottom-color: var(--fill-color);\n",
              "    animation:\n",
              "      spin 1s steps(1) infinite;\n",
              "  }\n",
              "\n",
              "  @keyframes spin {\n",
              "    0% {\n",
              "      border-color: transparent;\n",
              "      border-bottom-color: var(--fill-color);\n",
              "      border-left-color: var(--fill-color);\n",
              "    }\n",
              "    20% {\n",
              "      border-color: transparent;\n",
              "      border-left-color: var(--fill-color);\n",
              "      border-top-color: var(--fill-color);\n",
              "    }\n",
              "    30% {\n",
              "      border-color: transparent;\n",
              "      border-left-color: var(--fill-color);\n",
              "      border-top-color: var(--fill-color);\n",
              "      border-right-color: var(--fill-color);\n",
              "    }\n",
              "    40% {\n",
              "      border-color: transparent;\n",
              "      border-right-color: var(--fill-color);\n",
              "      border-top-color: var(--fill-color);\n",
              "    }\n",
              "    60% {\n",
              "      border-color: transparent;\n",
              "      border-right-color: var(--fill-color);\n",
              "    }\n",
              "    80% {\n",
              "      border-color: transparent;\n",
              "      border-right-color: var(--fill-color);\n",
              "      border-bottom-color: var(--fill-color);\n",
              "    }\n",
              "    90% {\n",
              "      border-color: transparent;\n",
              "      border-bottom-color: var(--fill-color);\n",
              "    }\n",
              "  }\n",
              "</style>\n",
              "\n",
              "  <script>\n",
              "    async function quickchart(key) {\n",
              "      const quickchartButtonEl =\n",
              "        document.querySelector('#' + key + ' button');\n",
              "      quickchartButtonEl.disabled = true;  // To prevent multiple clicks.\n",
              "      quickchartButtonEl.classList.add('colab-df-spinner');\n",
              "      try {\n",
              "        const charts = await google.colab.kernel.invokeFunction(\n",
              "            'suggestCharts', [key], {});\n",
              "      } catch (error) {\n",
              "        console.error('Error during call to suggestCharts:', error);\n",
              "      }\n",
              "      quickchartButtonEl.classList.remove('colab-df-spinner');\n",
              "      quickchartButtonEl.classList.add('colab-df-quickchart-complete');\n",
              "    }\n",
              "    (() => {\n",
              "      let quickchartButtonEl =\n",
              "        document.querySelector('#df-0731d793-ecb6-4bab-be44-68c952f073ee button');\n",
              "      quickchartButtonEl.style.display =\n",
              "        google.colab.kernel.accessAllowed ? 'block' : 'none';\n",
              "    })();\n",
              "  </script>\n",
              "</div>\n",
              "\n",
              "    </div>\n",
              "  </div>\n"
            ],
            "application/vnd.google.colaboratory.intrinsic+json": {
              "type": "dataframe",
              "variable_name": "df",
              "summary": "{\n  \"name\": \"df\",\n  \"rows\": 10841,\n  \"fields\": [\n    {\n      \"column\": \"App\",\n      \"properties\": {\n        \"dtype\": \"string\",\n        \"num_unique_values\": 9660,\n        \"samples\": [\n          \"Run R Script - Online Statistical Data Analysis\",\n          \"EURES - Your Job in Europe\",\n          \"Dog Licks Screen Wallpaper\"\n        ],\n        \"semantic_type\": \"\",\n        \"description\": \"\"\n      }\n    },\n    {\n      \"column\": \"Category\",\n      \"properties\": {\n        \"dtype\": \"category\",\n        \"num_unique_values\": 34,\n        \"samples\": [\n          \"LIBRARIES_AND_DEMO\",\n          \"MEDICAL\",\n          \"PRODUCTIVITY\"\n        ],\n        \"semantic_type\": \"\",\n        \"description\": \"\"\n      }\n    },\n    {\n      \"column\": \"Rating\",\n      \"properties\": {\n        \"dtype\": \"number\",\n        \"std\": 0.5374313031477594,\n        \"min\": 1.0,\n        \"max\": 19.0,\n        \"num_unique_values\": 40,\n        \"samples\": [\n          5.0,\n          3.4,\n          3.3\n        ],\n        \"semantic_type\": \"\",\n        \"description\": \"\"\n      }\n    },\n    {\n      \"column\": \"Reviews\",\n      \"properties\": {\n        \"dtype\": \"string\",\n        \"num_unique_values\": 6002,\n        \"samples\": [\n          \"66661\",\n          \"7479\",\n          \"8978\"\n        ],\n        \"semantic_type\": \"\",\n        \"description\": \"\"\n      }\n    },\n    {\n      \"column\": \"Size\",\n      \"properties\": {\n        \"dtype\": \"category\",\n        \"num_unique_values\": 462,\n        \"samples\": [\n          \"746k\",\n          \"9.4M\",\n          \"35M\"\n        ],\n        \"semantic_type\": \"\",\n        \"description\": \"\"\n      }\n    },\n    {\n      \"column\": \"Installs\",\n      \"properties\": {\n        \"dtype\": \"category\",\n        \"num_unique_values\": 22,\n        \"samples\": [\n          \"10,000+\",\n          \"50+\",\n          \"5,000+\"\n        ],\n        \"semantic_type\": \"\",\n        \"description\": \"\"\n      }\n    },\n    {\n      \"column\": \"Type\",\n      \"properties\": {\n        \"dtype\": \"category\",\n        \"num_unique_values\": 3,\n        \"samples\": [\n          \"Free\",\n          \"Paid\",\n          \"0\"\n        ],\n        \"semantic_type\": \"\",\n        \"description\": \"\"\n      }\n    },\n    {\n      \"column\": \"Price\",\n      \"properties\": {\n        \"dtype\": \"category\",\n        \"num_unique_values\": 93,\n        \"samples\": [\n          \"$17.99\",\n          \"$29.99\",\n          \"$37.99\"\n        ],\n        \"semantic_type\": \"\",\n        \"description\": \"\"\n      }\n    },\n    {\n      \"column\": \"Content Rating\",\n      \"properties\": {\n        \"dtype\": \"category\",\n        \"num_unique_values\": 6,\n        \"samples\": [\n          \"Everyone\",\n          \"Teen\",\n          \"Unrated\"\n        ],\n        \"semantic_type\": \"\",\n        \"description\": \"\"\n      }\n    },\n    {\n      \"column\": \"Genres\",\n      \"properties\": {\n        \"dtype\": \"category\",\n        \"num_unique_values\": 120,\n        \"samples\": [\n          \"Casual;Action & Adventure\",\n          \"Board\",\n          \"Auto & Vehicles\"\n        ],\n        \"semantic_type\": \"\",\n        \"description\": \"\"\n      }\n    },\n    {\n      \"column\": \"Last Updated\",\n      \"properties\": {\n        \"dtype\": \"category\",\n        \"num_unique_values\": 1378,\n        \"samples\": [\n          \"March 15, 2016\",\n          \"May 14, 2013\",\n          \"October 21, 2015\"\n        ],\n        \"semantic_type\": \"\",\n        \"description\": \"\"\n      }\n    },\n    {\n      \"column\": \"Current Ver\",\n      \"properties\": {\n        \"dtype\": \"category\",\n        \"num_unique_values\": 2832,\n        \"samples\": [\n          \"7.0.4.17908\",\n          \"1.2.5.4-11\",\n          \"2.5.7.1\"\n        ],\n        \"semantic_type\": \"\",\n        \"description\": \"\"\n      }\n    },\n    {\n      \"column\": \"Android Ver\",\n      \"properties\": {\n        \"dtype\": \"category\",\n        \"num_unique_values\": 33,\n        \"samples\": [\n          \"2.2 - 7.1.1\",\n          \"7.0 and up\",\n          \"3.1 and up\"\n        ],\n        \"semantic_type\": \"\",\n        \"description\": \"\"\n      }\n    }\n  ]\n}"
            }
          },
          "metadata": {},
          "execution_count": 4
        }
      ]
    },
    {
      "cell_type": "markdown",
      "source": [
        "# AVERAGE RATINGS OF APPS"
      ],
      "metadata": {
        "id": "ShDncryN3DLE"
      }
    },
    {
      "cell_type": "code",
      "source": [
        "import pandas as pd\n",
        "df=pd.read_csv(\"/content/drive/MyDrive/dataset/googleplaystore.csv\")\n",
        "mean_rating = df['Rating'].mean() # Assign the mean of the 'Rating' column to the variable 'mean_rating'\n",
        "print(mean_rating) # Print the value of 'mean_rating' to verify the assignment"
      ],
      "metadata": {
        "colab": {
          "base_uri": "https://localhost:8080/"
        },
        "id": "63JoKK6f1CLv",
        "outputId": "49cbca8f-3ddb-4c28-c35c-6eaabda4435c"
      },
      "execution_count": null,
      "outputs": [
        {
          "output_type": "stream",
          "name": "stdout",
          "text": [
            "4.193338315362443\n"
          ]
        }
      ]
    },
    {
      "cell_type": "markdown",
      "source": [
        "# UNIQUE CATEGORIES OF APPS"
      ],
      "metadata": {
        "id": "C_StcKD-29of"
      }
    },
    {
      "cell_type": "code",
      "source": [
        "unique_categories=df['Category'].unique()\n",
        "print(unique_categories)"
      ],
      "metadata": {
        "colab": {
          "base_uri": "https://localhost:8080/"
        },
        "id": "Fk7Y165F2rnu",
        "outputId": "e241a751-5fd6-4d0e-8ce5-eb307a8db2ae"
      },
      "execution_count": null,
      "outputs": [
        {
          "output_type": "stream",
          "name": "stdout",
          "text": [
            "['ART_AND_DESIGN' 'AUTO_AND_VEHICLES' 'BEAUTY' 'BOOKS_AND_REFERENCE'\n",
            " 'BUSINESS' 'COMICS' 'COMMUNICATION' 'DATING' 'EDUCATION' 'ENTERTAINMENT'\n",
            " 'EVENTS' 'FINANCE' 'FOOD_AND_DRINK' 'HEALTH_AND_FITNESS' 'HOUSE_AND_HOME'\n",
            " 'LIBRARIES_AND_DEMO' 'LIFESTYLE' 'GAME' 'FAMILY' 'MEDICAL' 'SOCIAL'\n",
            " 'SHOPPING' 'PHOTOGRAPHY' 'SPORTS' 'TRAVEL_AND_LOCAL' 'TOOLS'\n",
            " 'PERSONALIZATION' 'PRODUCTIVITY' 'PARENTING' 'WEATHER' 'VIDEO_PLAYERS'\n",
            " 'NEWS_AND_MAGAZINES' 'MAPS_AND_NAVIGATION' '1.9']\n"
          ]
        }
      ]
    },
    {
      "cell_type": "markdown",
      "source": [
        "# DISTRIBUTION OF APP SIZES"
      ],
      "metadata": {
        "id": "hh_4oalH22Rh"
      }
    },
    {
      "cell_type": "code",
      "source": [
        "import matplotlib.pyplot as plt\n",
        "plt.hist(df['Size'],bins=10,color='skyblue',edgecolor='black')\n",
        "plt.xlabel('Size')\n",
        "plt.ylabel('Frequency')\n",
        "plt.title('Distribution of App Sizes')\n",
        "plt.show()"
      ],
      "metadata": {
        "colab": {
          "base_uri": "https://localhost:8080/",
          "height": 472
        },
        "id": "_5mcLuNY3W-u",
        "outputId": "f1d1ca4d-7e39-4130-dccd-3af6ec8bb335"
      },
      "execution_count": null,
      "outputs": [
        {
          "output_type": "display_data",
          "data": {
            "text/plain": [
              "<Figure size 640x480 with 1 Axes>"
            ],
            "image/png": "[encoded data removed]"
          },
          "metadata": {}
        }
      ]
    },
    {
      "cell_type": "markdown",
      "source": [
        "# FREE VS PAID APPS"
      ],
      "metadata": {
        "id": "KDd-K1sx2x10"
      }
    },
    {
      "cell_type": "code",
      "source": [
        "type_counts=df['Type'].value_counts()\n",
        "print('Occurence of each type:')\n",
        "print(type_counts)"
      ],
      "metadata": {
        "colab": {
          "base_uri": "https://localhost:8080/"
        },
        "id": "wlIjrSNk5SPw",
        "outputId": "c39b5c91-76fe-44e6-8044-7fd48833ac65"
      },
      "execution_count": null,
      "outputs": [
        {
          "output_type": "stream",
          "name": "stdout",
          "text": [
            "Occurence of each type:\n",
            "Type\n",
            "Free    10039\n",
            "Paid      800\n",
            "0           1\n",
            "Name: count, dtype: int64\n"
          ]
        }
      ]
    },
    {
      "cell_type": "markdown",
      "source": [
        "# COMMON CONTENT RATING FOR APPS"
      ],
      "metadata": {
        "id": "gezE2QrL2qwg"
      }
    },
    {
      "cell_type": "code",
      "source": [
        "content_rating_mode=df['Content Rating'].mode()\n",
        "print('Mode of comment rating:')\n",
        "print(content_rating_mode)"
      ],
      "metadata": {
        "colab": {
          "base_uri": "https://localhost:8080/"
        },
        "id": "XASSdGjp6GcK",
        "outputId": "1d00a53e-f896-412b-ac70-57b51ff19f84"
      },
      "execution_count": null,
      "outputs": [
        {
          "output_type": "stream",
          "name": "stdout",
          "text": [
            "Mode of comment rating:\n",
            "0    Everyone\n",
            "Name: Content Rating, dtype: object\n"
          ]
        }
      ]
    },
    {
      "cell_type": "markdown",
      "source": [
        "# TOP 5 INSTALLED APPS"
      ],
      "metadata": {
        "id": "rCBOyyet2j_F"
      }
    },
    {
      "cell_type": "code",
      "source": [
        "df.sorted=df.sort_values(by='Installs',ascending=False)\n",
        "top_5_installs=df.sorted.head(5)\n",
        "print(top_5_installs)"
      ],
      "metadata": {
        "colab": {
          "base_uri": "https://localhost:8080/"
        },
        "id": "Dybk72Vt67tQ",
        "outputId": "3c5c50cb-60a9-45a5-b1ab-f4cd68e23630"
      },
      "execution_count": null,
      "outputs": [
        {
          "output_type": "stream",
          "name": "stdout",
          "text": [
            "                                               App            Category  \\\n",
            "10472      Life Made WI-Fi Touchscreen Photo Frame                 1.9   \n",
            "420    UC Browser - Fast Download Private & Secure       COMMUNICATION   \n",
            "474                    LINE: Free Calls & Messages       COMMUNICATION   \n",
            "3767                  Flipboard: News For Our Time  NEWS_AND_MAGAZINES   \n",
            "3574                                   Cloud Print        PRODUCTIVITY   \n",
            "\n",
            "       Rating   Reviews                Size      Installs  Type     Price  \\\n",
            "10472    19.0      3.0M              1,000+          Free     0  Everyone   \n",
            "420       4.5  17714850                 40M  500,000,000+  Free         0   \n",
            "474       4.2  10790289  Varies with device  500,000,000+  Free         0   \n",
            "3767      4.4   1284017  Varies with device  500,000,000+  Free         0   \n",
            "3574      4.1    282460  Varies with device  500,000,000+  Free         0   \n",
            "\n",
            "      Content Rating             Genres    Last Updated         Current Ver  \\\n",
            "10472            NaN  February 11, 2018          1.0.19          4.0 and up   \n",
            "420             Teen      Communication  August 2, 2018         12.8.5.1121   \n",
            "474         Everyone      Communication   July 26, 2018  Varies with device   \n",
            "3767    Everyone 10+   News & Magazines  August 3, 2018  Varies with device   \n",
            "3574        Everyone       Productivity    May 23, 2018  Varies with device   \n",
            "\n",
            "              Android Ver  \n",
            "10472                 NaN  \n",
            "420            4.0 and up  \n",
            "474    Varies with device  \n",
            "3767   Varies with device  \n",
            "3574   Varies with device  \n"
          ]
        },
        {
          "output_type": "stream",
          "name": "stderr",
          "text": [
            "<ipython-input-15-e0b513105813>:1: UserWarning: Pandas doesn't allow columns to be created via a new attribute name - see https://pandas.pydata.org/pandas-docs/stable/indexing.html#attribute-access\n",
            "  df.sorted=df.sort_values(by='Installs',ascending=False)\n"
          ]
        }
      ]
    },
    {
      "cell_type": "markdown",
      "source": [
        "# APPS WITH RATING 4.0 AND ABOVE"
      ],
      "metadata": {
        "id": "ZJGj3_442avJ"
      }
    },
    {
      "cell_type": "code",
      "source": [
        "filtered_ratings=df[df['Rating']>4.0]\n",
        "print(\"Apps with a rating of 4.0m  or above\")\n",
        "print(filtered_ratings)"
      ],
      "metadata": {
        "colab": {
          "base_uri": "https://localhost:8080/"
        },
        "id": "IB-gTfTS8z9B",
        "outputId": "145f28ad-bcdb-452f-e655-c003e831a67e"
      },
      "execution_count": null,
      "outputs": [
        {
          "output_type": "stream",
          "name": "stdout",
          "text": [
            "Apps with a rating of 4.0m  or above\n",
            "                                                     App             Category  \\\n",
            "0         Photo Editor & Candy Camera & Grid & ScrapBook       ART_AND_DESIGN   \n",
            "2      U Launcher Lite – FREE Live Cool Themes, Hide ...       ART_AND_DESIGN   \n",
            "3                                  Sketch - Draw & Paint       ART_AND_DESIGN   \n",
            "4                  Pixel Draw - Number Art Coloring Book       ART_AND_DESIGN   \n",
            "5                             Paper flowers instructions       ART_AND_DESIGN   \n",
            "...                                                  ...                  ...   \n",
            "10833                                        Chemin (fr)  BOOKS_AND_REFERENCE   \n",
            "10836                                   Sya9a Maroc - FR               FAMILY   \n",
            "10837                   Fr. Mike Schmitz Audio Teachings               FAMILY   \n",
            "10839                      The SCP Foundation DB fr nn5n  BOOKS_AND_REFERENCE   \n",
            "10840      iHoroscope - 2018 Daily Horoscope & Astrology            LIFESTYLE   \n",
            "\n",
            "       Rating Reviews                Size     Installs  Type Price  \\\n",
            "0         4.1     159                 19M      10,000+  Free     0   \n",
            "2         4.7   87510                8.7M   5,000,000+  Free     0   \n",
            "3         4.5  215644                 25M  50,000,000+  Free     0   \n",
            "4         4.3     967                2.8M     100,000+  Free     0   \n",
            "5         4.4     167                5.6M      50,000+  Free     0   \n",
            "...       ...     ...                 ...          ...   ...   ...   \n",
            "10833     4.8      44                619k       1,000+  Free     0   \n",
            "10836     4.5      38                 53M       5,000+  Free     0   \n",
            "10837     5.0       4                3.6M         100+  Free     0   \n",
            "10839     4.5     114  Varies with device       1,000+  Free     0   \n",
            "10840     4.5  398307                 19M  10,000,000+  Free     0   \n",
            "\n",
            "      Content Rating                   Genres      Last Updated  \\\n",
            "0           Everyone             Art & Design   January 7, 2018   \n",
            "2           Everyone             Art & Design    August 1, 2018   \n",
            "3               Teen             Art & Design      June 8, 2018   \n",
            "4           Everyone  Art & Design;Creativity     June 20, 2018   \n",
            "5           Everyone             Art & Design    March 26, 2017   \n",
            "...              ...                      ...               ...   \n",
            "10833       Everyone        Books & Reference    March 23, 2014   \n",
            "10836       Everyone                Education     July 25, 2017   \n",
            "10837       Everyone                Education      July 6, 2018   \n",
            "10839     Mature 17+        Books & Reference  January 19, 2015   \n",
            "10840       Everyone                Lifestyle     July 25, 2018   \n",
            "\n",
            "              Current Ver         Android Ver  \n",
            "0                   1.0.0        4.0.3 and up  \n",
            "2                   1.2.4        4.0.3 and up  \n",
            "3      Varies with device          4.2 and up  \n",
            "4                     1.1          4.4 and up  \n",
            "5                     1.0          2.3 and up  \n",
            "...                   ...                 ...  \n",
            "10833                 0.8          2.2 and up  \n",
            "10836                1.48          4.1 and up  \n",
            "10837                 1.0          4.1 and up  \n",
            "10839  Varies with device  Varies with device  \n",
            "10840  Varies with device  Varies with device  \n",
            "\n",
            "[6801 rows x 13 columns]\n"
          ]
        }
      ]
    },
    {
      "cell_type": "markdown",
      "source": [
        "# AVERAGE NUMBER OF REVIEWS FOR FREE VS PAID APPS"
      ],
      "metadata": {
        "id": "N0mKN1qq2Mc9"
      }
    },
    {
      "cell_type": "code",
      "source": [
        "df['Reviews'] = pd.to_numeric(df['Reviews'].str.replace('M', '', regex=False), errors='coerce')\n",
        "mean_reviews_by_type=df.groupby('Type')['Reviews'].mean()\n",
        "print('Mean review grouped by type')\n",
        "print(mean_reviews_by_type)"
      ],
      "metadata": {
        "colab": {
          "base_uri": "https://localhost:8080/"
        },
        "id": "EP-7_Tis-Wg3",
        "outputId": "a6b0a7fd-b7ad-4f09-a6f3-c7058a209d1d"
      },
      "execution_count": null,
      "outputs": [
        {
          "output_type": "stream",
          "name": "stdout",
          "text": [
            "Mean review grouped by type\n",
            "Type\n",
            "0            3.000000\n",
            "Free    478661.096026\n",
            "Paid     11673.312500\n",
            "Name: Reviews, dtype: float64\n"
          ]
        }
      ]
    },
    {
      "cell_type": "markdown",
      "source": [
        "# APP SIZE FOR EACH CATEGORY"
      ],
      "metadata": {
        "id": "7WbBlXLN2IVN"
      }
    },
    {
      "cell_type": "code",
      "source": [
        "import pandas as pd\n",
        "\n",
        "df = pd.read_csv(\"/content/drive/MyDrive/dataset/googleplaystore.csv\")\n",
        "\n",
        "df['Size'] = (\n",
        "    df['Size']\n",
        "    .replace('Varies with device', None)  # Replace 'Varies with device' with NaN\n",
        "    .str.replace('M', '', regex=False)  # Remove 'M' for megabytes\n",
        "    .str.replace('k', '', regex=False)  # Remove 'k' for kilobytes (if any)\n",
        "    .str.replace(',', '', regex=False)  # Remove commas\n",
        "    .str.replace('+', '', regex=False)  # Remove '+' from '1000+' to allow conversion to float\n",
        "    .astype(float, errors='ignore') # Convert to float, ignoring errors if any\n",
        ")\n",
        "\n",
        "\n",
        "# If you want to fill the non-numeric values with something else, use:\n",
        "df['Size'] = pd.to_numeric(df['Size'], errors='coerce').fillna(0)  # Replace non-numeric with 0, or any other desired value\n",
        "\n",
        "mean_size_by_category = df.groupby('Category')['Size'].mean()  # Corrected groupby syntax\n",
        "print(\"Mean size grouped by category\")\n",
        "print(mean_size_by_category)\n"
      ],
      "metadata": {
        "colab": {
          "base_uri": "https://localhost:8080/"
        },
        "id": "I13I66C3xfFZ",
        "outputId": "fcd56ace-d315-4146-d3c7-42a363989ee0"
      },
      "execution_count": null,
      "outputs": [
        {
          "output_type": "stream",
          "name": "stdout",
          "text": [
            "Mean size grouped by category\n",
            "Category\n",
            "1.9                    1000.000000\n",
            "ART_AND_DESIGN           11.800000\n",
            "AUTO_AND_VEHICLES        30.443529\n",
            "BEAUTY                   12.233962\n",
            "BOOKS_AND_REFERENCE      34.410823\n",
            "BUSINESS                 23.150000\n",
            "COMICS                   28.995000\n",
            "COMMUNICATION            38.200258\n",
            "DATING                   15.139316\n",
            "EDUCATION                21.722436\n",
            "ENTERTAINMENT            13.200000\n",
            "EVENTS                   17.650000\n",
            "FAMILY                   35.309381\n",
            "FINANCE                  24.236885\n",
            "FOOD_AND_DRINK           17.468504\n",
            "GAME                     40.633042\n",
            "HEALTH_AND_FITNESS       29.557185\n",
            "HOUSE_AND_HOME           19.794318\n",
            "LIBRARIES_AND_DEMO      174.451765\n",
            "LIFESTYLE                28.237173\n",
            "MAPS_AND_NAVIGATION      24.684672\n",
            "MEDICAL                  41.708855\n",
            "NEWS_AND_MAGAZINES       11.027562\n",
            "PARENTING                20.261667\n",
            "PERSONALIZATION          38.629337\n",
            "PHOTOGRAPHY              16.111642\n",
            "PRODUCTIVITY             25.461085\n",
            "SHOPPING                 24.650385\n",
            "SOCIAL                   18.658983\n",
            "SPORTS                   26.301823\n",
            "TOOLS                    41.882681\n",
            "TRAVEL_AND_LOCAL         19.365891\n",
            "VIDEO_PLAYERS            16.493143\n",
            "WEATHER                  16.213415\n",
            "Name: Size, dtype: float64\n"
          ]
        }
      ]
    },
    {
      "cell_type": "markdown",
      "source": [
        "# APPS LAST UPDATED IN 2018\n"
      ],
      "metadata": {
        "id": "yTh9cv3n14ng"
      }
    },
    {
      "cell_type": "code",
      "source": [
        "print(df.columns)"
      ],
      "metadata": {
        "colab": {
          "base_uri": "https://localhost:8080/"
        },
        "id": "CbfJ3_aC1fF7",
        "outputId": "189c1d24-e4a7-4d7b-cbdc-82638438538b"
      },
      "execution_count": null,
      "outputs": [
        {
          "output_type": "stream",
          "name": "stdout",
          "text": [
            "Index(['App', 'Category', 'Rating', 'Reviews', 'Size', 'Installs', 'Type',\n",
            "       'Price', 'Content Rating', 'Genres', 'Last Updated', 'Current Ver',\n",
            "       'Android Ver'],\n",
            "      dtype='object')\n"
          ]
        }
      ]
    },
    {
      "cell_type": "code",
      "source": [
        "df['Last updated'] = pd.to_datetime(df['Last Updated'], errors='coerce')\n",
        "\n",
        "df_2018 = df[df['Last updated'].dt.year == 2018]\n",
        "print('Apps Last updated in 2018')\n",
        "print(df_2018)"
      ],
      "metadata": {
        "colab": {
          "base_uri": "https://localhost:8080/"
        },
        "id": "iRfmTPRW0Qy9",
        "outputId": "500a62e9-a876-4ebc-dc26-e066fd0d6f6c"
      },
      "execution_count": null,
      "outputs": [
        {
          "output_type": "stream",
          "name": "stdout",
          "text": [
            "Apps Last updated in 2018\n",
            "                                                     App             Category  \\\n",
            "0         Photo Editor & Candy Camera & Grid & ScrapBook       ART_AND_DESIGN   \n",
            "1                                    Coloring book moana       ART_AND_DESIGN   \n",
            "2      U Launcher Lite – FREE Live Cool Themes, Hide ...       ART_AND_DESIGN   \n",
            "3                                  Sketch - Draw & Paint       ART_AND_DESIGN   \n",
            "4                  Pixel Draw - Number Art Coloring Book       ART_AND_DESIGN   \n",
            "...                                                  ...                  ...   \n",
            "10826          Frim: get new friends on local chat rooms               SOCIAL   \n",
            "10827                                 Fr Agnel Ambarnath               FAMILY   \n",
            "10831                           payermonstationnement.fr  MAPS_AND_NAVIGATION   \n",
            "10837                   Fr. Mike Schmitz Audio Teachings               FAMILY   \n",
            "10840      iHoroscope - 2018 Daily Horoscope & Astrology            LIFESTYLE   \n",
            "\n",
            "       Rating Reviews  Size     Installs  Type Price Content Rating  \\\n",
            "0         4.1     159  19.0      10,000+  Free     0       Everyone   \n",
            "1         3.9     967  14.0     500,000+  Free     0       Everyone   \n",
            "2         4.7   87510   8.7   5,000,000+  Free     0       Everyone   \n",
            "3         4.5  215644  25.0  50,000,000+  Free     0           Teen   \n",
            "4         4.3     967   2.8     100,000+  Free     0       Everyone   \n",
            "...       ...     ...   ...          ...   ...   ...            ...   \n",
            "10826     4.0   88486   0.0   5,000,000+  Free     0     Mature 17+   \n",
            "10827     4.2     117  13.0       5,000+  Free     0       Everyone   \n",
            "10831     NaN      38   9.8       5,000+  Free     0       Everyone   \n",
            "10837     5.0       4   3.6         100+  Free     0       Everyone   \n",
            "10840     4.5  398307  19.0  10,000,000+  Free     0       Everyone   \n",
            "\n",
            "                          Genres      Last Updated         Current Ver  \\\n",
            "0                   Art & Design   January 7, 2018               1.0.0   \n",
            "1      Art & Design;Pretend Play  January 15, 2018               2.0.0   \n",
            "2                   Art & Design    August 1, 2018               1.2.4   \n",
            "3                   Art & Design      June 8, 2018  Varies with device   \n",
            "4        Art & Design;Creativity     June 20, 2018                 1.1   \n",
            "...                          ...               ...                 ...   \n",
            "10826                     Social    March 23, 2018  Varies with device   \n",
            "10827                  Education     June 13, 2018              2.0.20   \n",
            "10831          Maps & Navigation     June 13, 2018           2.0.148.0   \n",
            "10837                  Education      July 6, 2018                 1.0   \n",
            "10840                  Lifestyle     July 25, 2018  Varies with device   \n",
            "\n",
            "              Android Ver Last updated  \n",
            "0            4.0.3 and up   2018-01-07  \n",
            "1            4.0.3 and up   2018-01-15  \n",
            "2            4.0.3 and up   2018-08-01  \n",
            "3              4.2 and up   2018-06-08  \n",
            "4              4.4 and up   2018-06-20  \n",
            "...                   ...          ...  \n",
            "10826  Varies with device   2018-03-23  \n",
            "10827        4.0.3 and up   2018-06-13  \n",
            "10831          4.0 and up   2018-06-13  \n",
            "10837          4.1 and up   2018-07-06  \n",
            "10840  Varies with device   2018-07-25  \n",
            "\n",
            "[7349 rows x 14 columns]\n"
          ]
        }
      ]
    },
    {
      "cell_type": "markdown",
      "source": [],
      "metadata": {
        "id": "L9kbCQtaEOQX"
      }
    },
    {
      "cell_type": "markdown",
      "source": [
        "# CORRELATION BETWEEN THE NUMBER OF INSTALLS AND THE APP RATING"
      ],
      "metadata": {
        "id": "GhRP_9jYn_B6"
      }
    },
    {
      "cell_type": "code",
      "source": [
        "import pandas as pd\n",
        "import numpy as np\n",
        "df=pd.read_csv(\"/content/drive/MyDrive/dataset/googleplaystore.csv\")\n",
        "\n",
        "# Replace non-numeric values (like 'Free') with 0 before converting to float\n",
        "df['Installs'] = pd.to_numeric(df['Installs'].str.replace('[+,]', '', regex=True), errors='coerce').fillna(0)\n",
        "\n",
        "# Now you can safely convert to float\n",
        "df['Installs'] = df['Installs'].astype(float)\n",
        "\n",
        "df['Rating'] = pd.to_numeric(df['Rating'], errors='coerce')\n",
        "\n",
        "df=df.dropna(subset=['Installs','Rating'])\n",
        "correlation  =df['Installs'].corr(df['Rating'])\n",
        "print(f\"Correlation using pandas: {correlation}\") # Fixed variable name here\n",
        "correlation_numpy = np.corrcoef(df['Installs'], df['Rating'])[0, 1]\n",
        "print(f\"Correlation using numpy: {correlation_numpy}\")"
      ],
      "metadata": {
        "colab": {
          "base_uri": "https://localhost:8080/"
        },
        "id": "N9DgLClboI-G",
        "outputId": "d02ff768-0240-4e91-c248-5bdd2aeecab7"
      },
      "execution_count": null,
      "outputs": [
        {
          "output_type": "stream",
          "name": "stdout",
          "text": [
            "Correlation using pandas: 0.04865225922721491\n",
            "Correlation using numpy: 0.04865225922721491\n"
          ]
        }
      ]
    },
    {
      "cell_type": "markdown",
      "source": [
        "# APP CATEGORIES WITH HIGHEST AVERAGE RATING"
      ],
      "metadata": {
        "id": "vt7bDMZArTpk"
      }
    },
    {
      "cell_type": "code",
      "source": [
        "df['Rating'] = pd.to_numeric(df['Rating'], errors='coerce')\n",
        "mean_rating_by_category=df.groupby('Category')['Rating'].mean()\n",
        "print('Mean rating grouped by category')\n",
        "print(mean_rating_by_category)"
      ],
      "metadata": {
        "colab": {
          "base_uri": "https://localhost:8080/"
        },
        "id": "-SrqtKuGrpiJ",
        "outputId": "7b216280-e1e8-452c-de7b-b65db6bef92e"
      },
      "execution_count": null,
      "outputs": [
        {
          "output_type": "stream",
          "name": "stdout",
          "text": [
            "Mean rating grouped by category\n",
            "Category\n",
            "1.9                    19.000000\n",
            "ART_AND_DESIGN          4.358065\n",
            "AUTO_AND_VEHICLES       4.190411\n",
            "BEAUTY                  4.278571\n",
            "BOOKS_AND_REFERENCE     4.346067\n",
            "BUSINESS                4.121452\n",
            "COMICS                  4.155172\n",
            "COMMUNICATION           4.158537\n",
            "DATING                  3.970769\n",
            "EDUCATION               4.389032\n",
            "ENTERTAINMENT           4.126174\n",
            "EVENTS                  4.435556\n",
            "FAMILY                  4.192272\n",
            "FINANCE                 4.131889\n",
            "FOOD_AND_DRINK          4.166972\n",
            "GAME                    4.286326\n",
            "HEALTH_AND_FITNESS      4.277104\n",
            "HOUSE_AND_HOME          4.197368\n",
            "LIBRARIES_AND_DEMO      4.178462\n",
            "LIFESTYLE               4.094904\n",
            "MAPS_AND_NAVIGATION     4.051613\n",
            "MEDICAL                 4.189143\n",
            "NEWS_AND_MAGAZINES      4.132189\n",
            "PARENTING               4.300000\n",
            "PERSONALIZATION         4.335987\n",
            "PHOTOGRAPHY             4.192114\n",
            "PRODUCTIVITY            4.211396\n",
            "SHOPPING                4.259664\n",
            "SOCIAL                  4.255598\n",
            "SPORTS                  4.223511\n",
            "TOOLS                   4.047411\n",
            "TRAVEL_AND_LOCAL        4.109292\n",
            "VIDEO_PLAYERS           4.063750\n",
            "WEATHER                 4.244000\n",
            "Name: Rating, dtype: float64\n"
          ]
        }
      ]
    },
    {
      "cell_type": "markdown",
      "source": [
        "# HOW DOES PRICE OF AN APP AFFECT THE RATING"
      ],
      "metadata": {
        "id": "m5LZtA4mt-Pl"
      }
    },
    {
      "cell_type": "code",
      "source": [
        "import pandas as pd\n",
        "import numpy as np\n",
        "df=pd.read_csv(\"/content/drive/MyDrive/dataset/googleplaystore.csv\")\n",
        "\n",
        "# Convert 'Price' column to string\n",
        "df['Price'] = df['Price'].astype(str)\n",
        "\n",
        "# Now you can safely use .str.replace\n",
        "df['Price'] = df['Price'].str.replace('$', '', regex=False).str.replace('Everyone', '0', regex=False)  # Replace $ and 'Everyone' with 0\n",
        "\n",
        "# Convert 'Price' to numeric after cleaning\n",
        "df['Price'] = pd.to_numeric(df['Price'], errors='coerce')  # Convert to numeric, handling errors\n",
        "\n",
        "df['Rating'] = pd.to_numeric(df['Rating'], errors='coerce')\n",
        "\n",
        "# Ensure 'Price' is numeric and compare with 0.0 (float)\n",
        "paid_apps = df[df['Price'] > 0.0]\n",
        "mean_rating_by_price = paid_apps.groupby('Price')['Rating'].mean()\n",
        "print('Mean rating grouped by price')\n",
        "print(mean_rating_by_price)"
      ],
      "metadata": {
        "colab": {
          "base_uri": "https://localhost:8080/"
        },
        "id": "p4KRtU7FuDEW",
        "outputId": "b89afcd9-b0d3-415c-b43c-53a3dd994567"
      },
      "execution_count": null,
      "outputs": [
        {
          "output_type": "stream",
          "name": "stdout",
          "text": [
            "Mean rating grouped by price\n",
            "Price\n",
            "0.99      4.298131\n",
            "1.00      4.450000\n",
            "1.04           NaN\n",
            "1.20      4.200000\n",
            "1.26           NaN\n",
            "            ...   \n",
            "379.99    2.900000\n",
            "389.99    3.600000\n",
            "394.99         NaN\n",
            "399.99    4.009091\n",
            "400.00    3.600000\n",
            "Name: Rating, Length: 91, dtype: float64\n"
          ]
        }
      ]
    },
    {
      "cell_type": "markdown",
      "source": [],
      "metadata": {
        "id": "supIi5OqvrdT"
      }
    },
    {
      "cell_type": "markdown",
      "source": [
        "# DISTRIBUTION OF APP RATINGS ACROSS DIFFERENT CONTENT RATINGS"
      ],
      "metadata": {
        "id": "Q7_P0Ug1wb3A"
      }
    },
    {
      "cell_type": "code",
      "source": [
        "import pandas as pd\n",
        "import numpy as np\n",
        "import seaborn as sns\n",
        "import matplotlib.pyplot as plt\n",
        "df = pd.read_csv(\"/content/drive/MyDrive/dataset/googleplaystore.csv\")\n",
        "# Drop rows with missing values in Rating or Content Rating\n",
        "data = df.dropna(subset=['Rating', 'Content Rating']) # Change data to df\n",
        "\n",
        "\n",
        "data['Content Rating'] = data['Content Rating'].astype('category')\n",
        "\n",
        "# Create the boxplot\n",
        "plt.figure(figsize=(10, 6))\n",
        "sns.boxplot(x='Content Rating', y='Rating', data=data)\n",
        "plt.title('Boxplot of Rating by Content Rating', fontsize=14)\n",
        "plt.xlabel('Content Rating', fontsize=12)\n",
        "plt.ylabel('Rating', fontsize=12)\n",
        "plt.xticks(rotation=45)\n",
        "plt.show()"
      ],
      "metadata": {
        "colab": {
          "base_uri": "https://localhost:8080/",
          "height": 767
        },
        "id": "y0rsYFUtwj3K",
        "outputId": "7a183a00-3b2c-49c5-bb8f-4ce72aeab1f5"
      },
      "execution_count": null,
      "outputs": [
        {
          "output_type": "stream",
          "name": "stderr",
          "text": [
            "<ipython-input-14-e833c2591707>:10: SettingWithCopyWarning: \n",
            "A value is trying to be set on a copy of a slice from a DataFrame.\n",
            "Try using .loc[row_indexer,col_indexer] = value instead\n",
            "\n",
            "See the caveats in the documentation: https://pandas.pydata.org/pandas-docs/stable/user_guide/indexing.html#returning-a-view-versus-a-copy\n",
            "  data['Content Rating'] = data['Content Rating'].astype('category')\n"
          ]
        },
        {
          "output_type": "display_data",
          "data": {
            "text/plain": [
              "<Figure size 1000x600 with 1 Axes>"
            ],
            "image/png": "[encoded data removed]"
          },
          "metadata": {}
        }
      ]
    },
    {
      "cell_type": "markdown",
      "source": [
        "# GENRES HAVING MOST APPS WITH OVER 1 MILLION INSTALLS"
      ],
      "metadata": {
        "id": "IE5a5ha9ylSz"
      }
    },
    {
      "cell_type": "code",
      "source": [
        "import pandas as pd\n",
        "\n",
        "df = pd.read_csv(\"/content/drive/MyDrive/dataset/googleplaystore.csv\")\n",
        "\n",
        "# Drop rows with missing values in Rating or Content Rating\n",
        "data = df.dropna(subset=['Rating', 'Content Rating'])\n",
        "\n",
        "# Ensure 'Installs' is treated as a string before using .str\n",
        "data['Installs'] = data['Installs'].astype(str)\n",
        "\n",
        "# Now you can use .str.replace to clean the column\n",
        "data['Installs'] = data['Installs'].str.replace(',', '', regex=False).str.replace('+', '', regex=False).astype(int)\n",
        "filtered_data = data[data['Installs'] > 1000000]\n",
        "\n",
        "# Specify numeric_only=True to calculate mean only for numeric columns\n",
        "grouped_data = filtered_data.groupby('Genres').mean(numeric_only=True)\n",
        "print(grouped_data)"
      ],
      "metadata": {
        "id": "ScQXyOh2yuq5",
        "colab": {
          "base_uri": "https://localhost:8080/"
        },
        "outputId": "0cbd93d4-25fe-4e15-fcce-79ae3100890d"
      },
      "execution_count": null,
      "outputs": [
        {
          "output_type": "stream",
          "name": "stdout",
          "text": [
            "                                         Rating      Installs\n",
            "Genres                                                       \n",
            "Action                                 4.376842  4.878947e+07\n",
            "Action;Action & Adventure              4.272727  7.727273e+06\n",
            "Adventure                              4.238889  2.166667e+07\n",
            "Adventure;Action & Adventure           4.470000  9.050000e+07\n",
            "Adventure;Education                    4.100000  1.000000e+07\n",
            "...                                         ...           ...\n",
            "Video Players & Editors                4.298333  1.028333e+08\n",
            "Video Players & Editors;Creativity     4.100000  5.000000e+06\n",
            "Video Players & Editors;Music & Video  4.000000  8.333333e+06\n",
            "Weather                                4.275000  1.666667e+07\n",
            "Word                                   4.500000  1.558824e+07\n",
            "\n",
            "[88 rows x 2 columns]\n"
          ]
        },
        {
          "output_type": "stream",
          "name": "stderr",
          "text": [
            "<ipython-input-18-7f879e956a2d>:9: SettingWithCopyWarning: \n",
            "A value is trying to be set on a copy of a slice from a DataFrame.\n",
            "Try using .loc[row_indexer,col_indexer] = value instead\n",
            "\n",
            "See the caveats in the documentation: https://pandas.pydata.org/pandas-docs/stable/user_guide/indexing.html#returning-a-view-versus-a-copy\n",
            "  data['Installs'] = data['Installs'].astype(str)\n",
            "<ipython-input-18-7f879e956a2d>:12: SettingWithCopyWarning: \n",
            "A value is trying to be set on a copy of a slice from a DataFrame.\n",
            "Try using .loc[row_indexer,col_indexer] = value instead\n",
            "\n",
            "See the caveats in the documentation: https://pandas.pydata.org/pandas-docs/stable/user_guide/indexing.html#returning-a-view-versus-a-copy\n",
            "  data['Installs'] = data['Installs'].str.replace(',', '', regex=False).str.replace('+', '', regex=False).astype(int)\n"
          ]
        }
      ]
    },
    {
      "cell_type": "markdown",
      "source": [
        "# AVERAGE TIME BETWEEN APPS"
      ],
      "metadata": {
        "id": "MM9ug0399fng"
      }
    },
    {
      "cell_type": "code",
      "source": [
        "import pandas as pd\n",
        "\n",
        "# Convert 'Last Updated' to datetime\n",
        "data['Last Updated'] = pd.to_datetime(data['Last Updated'])\n",
        "\n",
        "# Sort the data by App and Last Updated\n",
        "data_sorted = data.sort_values(by=['App', 'Last Updated'])\n",
        "\n",
        "# Calculate the difference between consecutive updates for each app\n",
        "data_sorted['Update Difference'] = data_sorted.groupby('App')['Last Updated'].diff()\n",
        "\n",
        "# Display the result\n",
        "print(data_sorted[['App', 'Last Updated', 'Update Difference']])"
      ],
      "metadata": {
        "colab": {
          "base_uri": "https://localhost:8080/"
        },
        "id": "N-51rvTY9nRN",
        "outputId": "804d07f5-bf8c-46c3-87ca-024630957f58"
      },
      "execution_count": null,
      "outputs": [
        {
          "output_type": "stream",
          "name": "stdout",
          "text": [
            "                                                   App Last Updated  \\\n",
            "8532                     +Download 4 Instagram Twitter   2018-08-02   \n",
            "324                         - Free Comics - Comic Apps   2018-07-13   \n",
            "4541                                                .R   2014-09-16   \n",
            "4636                                            /u/app   2018-07-03   \n",
            "5940                                            058.ba   2018-07-06   \n",
            "...                                                ...          ...   \n",
            "6420                                       감성학원 BL 첫사랑   2017-11-17   \n",
            "4362                                        💎 I'm rich   2018-03-11   \n",
            "2575     💘 WhatsLov: Smileys of love, stickers and GIF   2018-07-24   \n",
            "7559  📏 Smart Ruler ↔️ cm/inch measuring for homework!   2017-10-21   \n",
            "882   🔥 Football Wallpapers 4K | Full HD Backgrounds 😍   2018-07-14   \n",
            "\n",
            "     Update Difference  \n",
            "8532               NaT  \n",
            "324                NaT  \n",
            "4541               NaT  \n",
            "4636               NaT  \n",
            "5940               NaT  \n",
            "...                ...  \n",
            "6420               NaT  \n",
            "4362               NaT  \n",
            "2575               NaT  \n",
            "7559               NaT  \n",
            "882                NaT  \n",
            "\n",
            "[9366 rows x 3 columns]\n"
          ]
        },
        {
          "output_type": "stream",
          "name": "stderr",
          "text": [
            "<ipython-input-19-9af07bebb641>:4: SettingWithCopyWarning: \n",
            "A value is trying to be set on a copy of a slice from a DataFrame.\n",
            "Try using .loc[row_indexer,col_indexer] = value instead\n",
            "\n",
            "See the caveats in the documentation: https://pandas.pydata.org/pandas-docs/stable/user_guide/indexing.html#returning-a-view-versus-a-copy\n",
            "  data['Last Updated'] = pd.to_datetime(data['Last Updated'])\n"
          ]
        }
      ]
    },
    {
      "cell_type": "markdown",
      "source": [
        "# IMPACT OF APP SIZE ON NUMBER OF INSTALLS"
      ],
      "metadata": {
        "id": "-Y8Har4s92JC"
      }
    },
    {
      "cell_type": "code",
      "source": [
        "import pandas as pd\n",
        "import seaborn as sns\n",
        "import matplotlib.pyplot as plt\n",
        "\n",
        "# 'Installs' is already an int, so no need to convert again\n",
        "# If you need to clean the data again, you need to load a fresh copy of the DataFrame\n",
        "\n",
        "# Convert 'Size' to numeric (handle 'Varies with device' if present)\n",
        "data['Size'] = data['Size'].replace('Varies with device', None)\n",
        "data['Size'] = data['Size'].str.replace('M', '').str.replace('k', 'e-3').astype(float)\n",
        "\n",
        "# Scatter plot with Seaborn\n",
        "plt.figure(figsize=(10, 6))\n",
        "sns.scatterplot(data=data, x='Size', y='Installs')\n",
        "plt.title('Scatter Plot of Size vs Installs', fontsize=16)\n",
        "plt.xlabel('Size (MB)', fontsize=12)\n",
        "plt.ylabel('Installs', fontsize=12)\n",
        "plt.grid(True)\n",
        "plt.show()"
      ],
      "metadata": {
        "colab": {
          "base_uri": "https://localhost:8080/",
          "height": 798
        },
        "id": "zqvSAQLW-A5m",
        "outputId": "4fea7fad-8335-4c1b-f90c-930e2aa452ea"
      },
      "execution_count": null,
      "outputs": [
        {
          "output_type": "stream",
          "name": "stderr",
          "text": [
            "<ipython-input-21-9bd6b5cb524d>:9: SettingWithCopyWarning: \n",
            "A value is trying to be set on a copy of a slice from a DataFrame.\n",
            "Try using .loc[row_indexer,col_indexer] = value instead\n",
            "\n",
            "See the caveats in the documentation: https://pandas.pydata.org/pandas-docs/stable/user_guide/indexing.html#returning-a-view-versus-a-copy\n",
            "  data['Size'] = data['Size'].replace('Varies with device', None)\n",
            "<ipython-input-21-9bd6b5cb524d>:10: SettingWithCopyWarning: \n",
            "A value is trying to be set on a copy of a slice from a DataFrame.\n",
            "Try using .loc[row_indexer,col_indexer] = value instead\n",
            "\n",
            "See the caveats in the documentation: https://pandas.pydata.org/pandas-docs/stable/user_guide/indexing.html#returning-a-view-versus-a-copy\n",
            "  data['Size'] = data['Size'].str.replace('M', '').str.replace('k', 'e-3').astype(float)\n"
          ]
        },
        {
          "output_type": "display_data",
          "data": {
            "text/plain": [
              "<Figure size 1000x600 with 1 Axes>"
            ],
            "image/png": "[encoded data removed]"
          },
          "metadata": {}
        }
      ]
    },
    {
      "cell_type": "markdown",
      "source": [
        "# APPS HAVING HIGHEST NUMBER OF REVIEWS AND THEIR RATING"
      ],
      "metadata": {
        "id": "8olFeyyZBDY8"
      }
    },
    {
      "cell_type": "code",
      "source": [
        "import pandas as pd\n",
        "df = pd.read_csv(\"/content/drive/MyDrive/dataset/googleplaystore.csv\")\n",
        "data = df.dropna(subset=['Rating', 'Content Rating'])\n",
        "data_sorted = data.sort_values(by='Reviews', ascending=False) # Changed data.sorted_values to data.sort_values\n",
        "top_apps = data_sorted.head(5)\n",
        "print(top_apps[['App', 'Reviews', 'Rating']]) # Change 'Apps' to 'App' to match the column name"
      ],
      "metadata": {
        "colab": {
          "base_uri": "https://localhost:8080/"
        },
        "id": "Z_kYgoK0BKwV",
        "outputId": "4d955e13-7797-4e26-9baa-0f3c8fe810f8"
      },
      "execution_count": 1,
      "outputs": [
        {
          "output_type": "stream",
          "name": "stdout",
          "text": [
            "                                    App Reviews  Rating\n",
            "2989             GollerCepte Live Score    9992     4.2\n",
            "4970       Ad Block REMOVER - NEED ROOT     999     3.3\n",
            "2723                SnipSnap Coupon App    9975     4.2\n",
            "2705                SnipSnap Coupon App    9975     4.2\n",
            "3079  US Open Tennis Championships 2018    9971     4.0\n"
          ]
        }
      ]
    },
    {
      "cell_type": "markdown",
      "source": [
        "# CONTENT RATING DISTRUBUTION DIFFER BETWEEN FREE AND PAID APPS"
      ],
      "metadata": {
        "id": "wAnVqHqty7Iz"
      }
    },
    {
      "cell_type": "code",
      "source": [
        "import pandas as pd\n",
        "\n",
        "# Create a crosstab\n",
        "crosstab = pd.crosstab(data['Content Rating'], data['Type'])\n",
        "\n",
        "# Display the crosstab\n",
        "print(crosstab)\n"
      ],
      "metadata": {
        "colab": {
          "base_uri": "https://localhost:8080/"
        },
        "id": "Q6na8a5fzJ9O",
        "outputId": "a24cb685-4974-4024-aa2e-83c36d5c39a5"
      },
      "execution_count": 2,
      "outputs": [
        {
          "output_type": "stream",
          "name": "stdout",
          "text": [
            "Type             Free  Paid\n",
            "Content Rating             \n",
            "Adults only 18+     3     0\n",
            "Everyone         6868   552\n",
            "Everyone 10+      364    33\n",
            "Mature 17+        444    17\n",
            "Teen             1039    45\n",
            "Unrated             1     0\n"
          ]
        }
      ]
    },
    {
      "cell_type": "markdown",
      "source": [
        "# TOP FIVE CATEGORIES WITH THE MOST INSTALLS"
      ],
      "metadata": {
        "id": "UA1cf6eM0c70"
      }
    },
    {
      "cell_type": "code",
      "source": [
        "import pandas as pd\n",
        "\n",
        "# Group the data by Category and sum the Installs column\n",
        "installs_by_category = data.groupby('Category')['Installs'].sum()\n",
        "\n",
        "# Sort the results in descending order\n",
        "sorted_installs = installs_by_category.sort_values(ascending=False)\n",
        "\n",
        "# Select the top 5 categories\n",
        "top_5_categories = sorted_installs.head(5)\n",
        "\n",
        "# Display the results\n",
        "print(top_5_categories)\n"
      ],
      "metadata": {
        "colab": {
          "base_uri": "https://localhost:8080/"
        },
        "id": "pAsnyeAm0h4s",
        "outputId": "ea58fdb1-7e72-4153-d3cf-84e9bd274253"
      },
      "execution_count": 3,
      "outputs": [
        {
          "output_type": "stream",
          "name": "stdout",
          "text": [
            "Category\n",
            "PRODUCTIVITY       500,000,000+10,000,000+100,000,000+10,000,000+...\n",
            "BEAUTY             500,000+1,000,000+100,000+500,000+1,000,000+50...\n",
            "FAMILY             50,000,000+10,000,000+100,000,000+1,000,000+5,...\n",
            "WEATHER            50,000,000+1,000,000+50,000,000+10,000+10,000,...\n",
            "PERSONALIZATION    50,000,000+1,000,000+100,000,000+5,000,000+100...\n",
            "Name: Installs, dtype: object\n"
          ]
        }
      ]
    }
  ]
}